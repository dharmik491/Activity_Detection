{
 "cells": [
  {
   "cell_type": "code",
   "execution_count": 1,
   "id": "14d80b1b",
   "metadata": {},
   "outputs": [],
   "source": [
    "from tensorflow.keras.layers import Dense, LSTM, Conv2D, TimeDistributed, Flatten, GlobalAveragePooling2D\n",
    "from tensorflow.keras.models import Sequential\n",
    "from tensorflow.keras.optimizers import Adam\n",
    "import numpy as np"
   ]
  },
  {
   "cell_type": "code",
   "execution_count": 2,
   "id": "9e4d7d9a",
   "metadata": {},
   "outputs": [],
   "source": [
    "frames = 100\n",
    "x = 160\n",
    "y = 120\n",
    "classes = [\"Reading\", \"Drink\", \"Eat\", \"Call Cellphone\", \"Write\", \"Use Laptop\", \"Use Vaccum Cleaner\", \"Cheer Up\", \"Sit Still\", \"Toss Paper\", \"Play Game\", \"Lay Down\", \"Walk\", \"Stand Up\", \"Sit Down\"]\n",
    "outputs = 2\n"
   ]
  },
  {
   "cell_type": "code",
   "execution_count": 3,
   "id": "06107f80",
   "metadata": {},
   "outputs": [],
   "source": [
    "model = Sequential()\n",
    "model.add(TimeDistributed(Conv2D(input_shape=(frames, x, y, 1), filters=64,kernel_size=(3,3),padding=\"same\", activation=\"relu\")))\n",
    "model.add(TimeDistributed(Conv2D(filters=64,kernel_size=(3,3),padding=\"same\", activation=\"relu\")))\n",
    "model.add(TimeDistributed(GlobalAveragePooling2D()))\n",
    "model.add(LSTM(frames, input_shape=(frames,1), activation='relu', return_sequences=True))\n",
    "model.add(TimeDistributed(Dense(10)))\n",
    "model.add(Dense(1024, activation='relu'))\n",
    "model.add(Dense(512, activation='relu'))\n",
    "model.add(Dense(256, activation='relu'))\n",
    "model.add(Dense(outputs, activation='softmax'))"
   ]
  },
  {
   "cell_type": "code",
   "execution_count": 4,
   "id": "6992d449",
   "metadata": {},
   "outputs": [
    {
     "name": "stdout",
     "output_type": "stream",
     "text": [
      "Model: \"sequential\"\n",
      "_________________________________________________________________\n",
      " Layer (type)                Output Shape              Param #   \n",
      "=================================================================\n",
      " time_distributed (TimeDistr  (10, 100, 160, 120, 64)  640       \n",
      " ibuted)                                                         \n",
      "                                                                 \n",
      " time_distributed_1 (TimeDis  (10, 100, 160, 120, 64)  36928     \n",
      " tributed)                                                       \n",
      "                                                                 \n",
      " time_distributed_2 (TimeDis  (10, 100, 64)            0         \n",
      " tributed)                                                       \n",
      "                                                                 \n",
      " lstm (LSTM)                 (10, 100, 100)            66000     \n",
      "                                                                 \n",
      " time_distributed_3 (TimeDis  (10, 100, 10)            1010      \n",
      " tributed)                                                       \n",
      "                                                                 \n",
      " dense_1 (Dense)             (10, 100, 1024)           11264     \n",
      "                                                                 \n",
      " dense_2 (Dense)             (10, 100, 512)            524800    \n",
      "                                                                 \n",
      " dense_3 (Dense)             (10, 100, 256)            131328    \n",
      "                                                                 \n",
      " dense_4 (Dense)             (10, 100, 2)              514       \n",
      "                                                                 \n",
      "=================================================================\n",
      "Total params: 772,484\n",
      "Trainable params: 772,484\n",
      "Non-trainable params: 0\n",
      "_________________________________________________________________\n",
      "None\n"
     ]
    }
   ],
   "source": [
    "model.compile(loss='categorical_crossentropy', optimizer='adam')\n",
    "model.build((10,frames,x,y,1))\n",
    "print(model.summary())"
   ]
  },
  {
   "cell_type": "code",
   "execution_count": 5,
   "id": "7fe9fc6f",
   "metadata": {},
   "outputs": [],
   "source": [
    "import cv2 as cv\n",
    "import os\n",
    "\n",
    "# for f in os.listdir(\"MSRDailyAct3D_pack2/Reading\"):\n",
    "#     if f.endswith(\".avi\"):\n",
    "#         continue\n",
    "#     os.remove(os.path.join(\"MSRDailyAct3D_pack2/Reading\", f))\n",
    "\n",
    "i=0\n",
    "c=0\n",
    "X_train = []\n",
    "Y_train = []\n",
    "no_act = 2\n",
    "no_video_frames = 5\n",
    "for path in os.listdir(\"SRI Datasets/MSR_U\"):\n",
    "    \n",
    "    if no_act == 0:\n",
    "        break\n",
    "    \n",
    "    no_video_frames = 5\n",
    "    for path1 in os.listdir(\"SRI Datasets/MSR_U/\"+path):\n",
    "        \n",
    "        if no_video_frames == 0:\n",
    "            break\n",
    "    \n",
    "        capture = cv.VideoCapture(\"SRI Datasets/MSR_U/\"+path+\"/\"+path1)\n",
    "\n",
    "        #work\n",
    "\n",
    "        i = i+1   \n",
    "\n",
    "        temp_frames = []\n",
    "        for i in range(frames):\n",
    "\n",
    "            ret, frame = capture.read()\n",
    "            #print(ret)\n",
    "            if ret == True:\n",
    "                \n",
    "                scale_precent = 25\n",
    "                width = int(frame.shape[1] * scale_precent / 100)\n",
    "                height = int(frame.shape[0] * scale_precent / 100)\n",
    "#                 print(width)\n",
    "#                 print(height)\n",
    "                dim = (height,width)\n",
    "\n",
    "                resized = cv.resize(frame, dim, interpolation = cv.INTER_AREA)\n",
    "                grayImage = cv.cvtColor(resized, cv.COLOR_BGR2GRAY)\n",
    "#                 cv.imshow('Frame '+ str(i), grayImage)\n",
    "                temp_frames.append(grayImage)\n",
    "\n",
    "\n",
    "            # Break the loop\n",
    "            else: \n",
    "                break\n",
    "\n",
    "        if len(temp_frames) < frames:\n",
    "            for t in range(frames-len(temp_frames)):\n",
    "                temp_frames.append(np.zeros((x,y)))\n",
    "        X = np.array(temp_frames)\n",
    "        X=X.reshape(X.shape[0],X.shape[1],X.shape[2],1)\n",
    "        X=X.astype(\"float16\")\n",
    "        ind = 0\n",
    "        label = np.zeros((X.shape[0],outputs))\n",
    "        label[:][ind] = 1\n",
    "        Y_train.append(label)\n",
    "        #print(label.shape)\n",
    "        X_train.append(X)\n",
    "        no_video_frames = no_video_frames - 1\n",
    "\n",
    "    no_act = no_act-1\n",
    "    \n",
    "    \n",
    "capture.release()\n",
    "cv.destroyAllWindows()"
   ]
  },
  {
   "cell_type": "code",
   "execution_count": 6,
   "id": "ce5fb401",
   "metadata": {},
   "outputs": [],
   "source": [
    "X_train_final = np.array(X_train)\n",
    "Y_train_final = np.array(Y_train)\n",
    "\n",
    "#model.fit(X_train_final, Y_train_final)"
   ]
  },
  {
   "cell_type": "code",
   "execution_count": null,
   "id": "3831553d",
   "metadata": {},
   "outputs": [],
   "source": [
    "model.fit(X_train_final, Y_train_final, epochs=1)"
   ]
  },
  {
   "cell_type": "code",
   "execution_count": null,
   "id": "df6bde70",
   "metadata": {},
   "outputs": [],
   "source": [
    "model.save('HAR_weights.h5')"
   ]
  }
 ],
 "metadata": {
  "kernelspec": {
   "display_name": "Python 3 (ipykernel)",
   "language": "python",
   "name": "python3"
  },
  "language_info": {
   "codemirror_mode": {
    "name": "ipython",
    "version": 3
   },
   "file_extension": ".py",
   "mimetype": "text/x-python",
   "name": "python",
   "nbconvert_exporter": "python",
   "pygments_lexer": "ipython3",
   "version": "3.9.15"
  }
 },
 "nbformat": 4,
 "nbformat_minor": 5
}
